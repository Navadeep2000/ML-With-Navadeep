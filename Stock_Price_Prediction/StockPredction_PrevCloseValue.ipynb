{
 "cells": [
  {
   "cell_type": "markdown",
   "id": "6f7848c5-363d-44c6-821f-12c1789bf811",
   "metadata": {},
   "source": [
    "- **pandas library**: Pandas is a data manipulation library for Python, providing powerful data structures and tools for working with structured data, such as tables and CSV files.\r\n",
    "\r\n",
    "- **scikit-learn (sklearn)**: Scikit-learn is a machine learning library in Python that offers a wide range of tools for data analysis and modeling, including classification, regression, and clustering algorithms.\r\n",
    "\r\n",
    "- **pickle**: Pickle is a Python module for serializing and deserializing Python objects, enabling the storage and retrieval of complex data structures, including machine learning models, in a compact binary format.\r\n"
   ]
  },
  {
   "cell_type": "markdown",
   "id": "ce1348a5-d27e-4bbc-a9eb-7831696e132c",
   "metadata": {},
   "source": [
    "# 1. Data Collection"
   ]
  },
  {
   "cell_type": "code",
   "execution_count": 1,
   "id": "06f91a47",
   "metadata": {},
   "outputs": [],
   "source": [
    "import pandas as pd\n",
    "from sklearn.model_selection import train_test_split\n",
    "from sklearn.linear_model import LinearRegression\n",
    "from sklearn.metrics import mean_squared_error, r2_score\n",
    "import pickle"
   ]
  },
  {
   "cell_type": "code",
   "execution_count": 2,
   "id": "8f4e8569",
   "metadata": {},
   "outputs": [
    {
     "data": {
      "text/html": [
       "<div>\n",
       "<style scoped>\n",
       "    .dataframe tbody tr th:only-of-type {\n",
       "        vertical-align: middle;\n",
       "    }\n",
       "\n",
       "    .dataframe tbody tr th {\n",
       "        vertical-align: top;\n",
       "    }\n",
       "\n",
       "    .dataframe thead th {\n",
       "        text-align: right;\n",
       "    }\n",
       "</style>\n",
       "<table border=\"1\" class=\"dataframe\">\n",
       "  <thead>\n",
       "    <tr style=\"text-align: right;\">\n",
       "      <th></th>\n",
       "      <th>Date</th>\n",
       "      <th>Open</th>\n",
       "      <th>High</th>\n",
       "      <th>Low</th>\n",
       "      <th>Close</th>\n",
       "      <th>Adj Close</th>\n",
       "      <th>Volume</th>\n",
       "    </tr>\n",
       "  </thead>\n",
       "  <tbody>\n",
       "    <tr>\n",
       "      <th>0</th>\n",
       "      <td>2022-09-30</td>\n",
       "      <td>1378.800049</td>\n",
       "      <td>1431.449951</td>\n",
       "      <td>1365.000000</td>\n",
       "      <td>1421.349976</td>\n",
       "      <td>1405.234863</td>\n",
       "      <td>7890878</td>\n",
       "    </tr>\n",
       "    <tr>\n",
       "      <th>1</th>\n",
       "      <td>2022-10-03</td>\n",
       "      <td>1409.949951</td>\n",
       "      <td>1417.849976</td>\n",
       "      <td>1401.099976</td>\n",
       "      <td>1413.199951</td>\n",
       "      <td>1397.177246</td>\n",
       "      <td>5770556</td>\n",
       "    </tr>\n",
       "    <tr>\n",
       "      <th>2</th>\n",
       "      <td>2022-10-04</td>\n",
       "      <td>1429.500000</td>\n",
       "      <td>1458.000000</td>\n",
       "      <td>1426.150024</td>\n",
       "      <td>1453.000000</td>\n",
       "      <td>1436.526123</td>\n",
       "      <td>5769263</td>\n",
       "    </tr>\n",
       "    <tr>\n",
       "      <th>3</th>\n",
       "      <td>2022-10-06</td>\n",
       "      <td>1459.949951</td>\n",
       "      <td>1462.599976</td>\n",
       "      <td>1434.199951</td>\n",
       "      <td>1437.000000</td>\n",
       "      <td>1420.707520</td>\n",
       "      <td>6274599</td>\n",
       "    </tr>\n",
       "    <tr>\n",
       "      <th>4</th>\n",
       "      <td>2022-10-07</td>\n",
       "      <td>1430.250000</td>\n",
       "      <td>1434.949951</td>\n",
       "      <td>1420.349976</td>\n",
       "      <td>1430.800049</td>\n",
       "      <td>1414.577759</td>\n",
       "      <td>6648997</td>\n",
       "    </tr>\n",
       "  </tbody>\n",
       "</table>\n",
       "</div>"
      ],
      "text/plain": [
       "         Date         Open         High          Low        Close  \\\n",
       "0  2022-09-30  1378.800049  1431.449951  1365.000000  1421.349976   \n",
       "1  2022-10-03  1409.949951  1417.849976  1401.099976  1413.199951   \n",
       "2  2022-10-04  1429.500000  1458.000000  1426.150024  1453.000000   \n",
       "3  2022-10-06  1459.949951  1462.599976  1434.199951  1437.000000   \n",
       "4  2022-10-07  1430.250000  1434.949951  1420.349976  1430.800049   \n",
       "\n",
       "     Adj Close   Volume  \n",
       "0  1405.234863  7890878  \n",
       "1  1397.177246  5770556  \n",
       "2  1436.526123  5769263  \n",
       "3  1420.707520  6274599  \n",
       "4  1414.577759  6648997  "
      ]
     },
     "execution_count": 2,
     "metadata": {},
     "output_type": "execute_result"
    }
   ],
   "source": [
    "data = pd.read_csv(\"HDFCBANK.csv\")\n",
    "data.head()"
   ]
  },
  {
   "cell_type": "markdown",
   "id": "10457c43",
   "metadata": {},
   "source": [
    "# 2. Feature Engineering"
   ]
  },
  {
   "cell_type": "code",
   "execution_count": 3,
   "id": "88297988-a127-4d95-b2a9-f7117962b2d5",
   "metadata": {},
   "outputs": [
    {
     "name": "stdout",
     "output_type": "stream",
     "text": [
      "<class 'pandas.core.frame.DataFrame'>\n",
      "RangeIndex: 248 entries, 0 to 247\n",
      "Data columns (total 7 columns):\n",
      " #   Column     Non-Null Count  Dtype  \n",
      "---  ------     --------------  -----  \n",
      " 0   Date       248 non-null    object \n",
      " 1   Open       248 non-null    float64\n",
      " 2   High       248 non-null    float64\n",
      " 3   Low        248 non-null    float64\n",
      " 4   Close      248 non-null    float64\n",
      " 5   Adj Close  248 non-null    float64\n",
      " 6   Volume     248 non-null    int64  \n",
      "dtypes: float64(5), int64(1), object(1)\n",
      "memory usage: 13.7+ KB\n"
     ]
    }
   ],
   "source": [
    "data.info()"
   ]
  },
  {
   "cell_type": "code",
   "execution_count": 4,
   "id": "a654e54f",
   "metadata": {},
   "outputs": [],
   "source": [
    "data['Date'] = pd.to_datetime(data['Date'])"
   ]
  },
  {
   "cell_type": "code",
   "execution_count": 5,
   "id": "744897b2-21f0-4641-bac8-898e25ce347f",
   "metadata": {},
   "outputs": [
    {
     "name": "stdout",
     "output_type": "stream",
     "text": [
      "<class 'pandas.core.frame.DataFrame'>\n",
      "RangeIndex: 248 entries, 0 to 247\n",
      "Data columns (total 7 columns):\n",
      " #   Column     Non-Null Count  Dtype         \n",
      "---  ------     --------------  -----         \n",
      " 0   Date       248 non-null    datetime64[ns]\n",
      " 1   Open       248 non-null    float64       \n",
      " 2   High       248 non-null    float64       \n",
      " 3   Low        248 non-null    float64       \n",
      " 4   Close      248 non-null    float64       \n",
      " 5   Adj Close  248 non-null    float64       \n",
      " 6   Volume     248 non-null    int64         \n",
      "dtypes: datetime64[ns](1), float64(5), int64(1)\n",
      "memory usage: 13.7 KB\n"
     ]
    }
   ],
   "source": [
    "data.info()"
   ]
  },
  {
   "cell_type": "code",
   "execution_count": 6,
   "id": "df28569e",
   "metadata": {
    "scrolled": true
   },
   "outputs": [
    {
     "data": {
      "text/html": [
       "<div>\n",
       "<style scoped>\n",
       "    .dataframe tbody tr th:only-of-type {\n",
       "        vertical-align: middle;\n",
       "    }\n",
       "\n",
       "    .dataframe tbody tr th {\n",
       "        vertical-align: top;\n",
       "    }\n",
       "\n",
       "    .dataframe thead th {\n",
       "        text-align: right;\n",
       "    }\n",
       "</style>\n",
       "<table border=\"1\" class=\"dataframe\">\n",
       "  <thead>\n",
       "    <tr style=\"text-align: right;\">\n",
       "      <th></th>\n",
       "      <th>Date</th>\n",
       "      <th>Open</th>\n",
       "      <th>Close</th>\n",
       "    </tr>\n",
       "  </thead>\n",
       "  <tbody>\n",
       "    <tr>\n",
       "      <th>0</th>\n",
       "      <td>2022-09-30</td>\n",
       "      <td>1378.800049</td>\n",
       "      <td>1421.349976</td>\n",
       "    </tr>\n",
       "    <tr>\n",
       "      <th>1</th>\n",
       "      <td>2022-10-03</td>\n",
       "      <td>1409.949951</td>\n",
       "      <td>1413.199951</td>\n",
       "    </tr>\n",
       "    <tr>\n",
       "      <th>2</th>\n",
       "      <td>2022-10-04</td>\n",
       "      <td>1429.500000</td>\n",
       "      <td>1453.000000</td>\n",
       "    </tr>\n",
       "    <tr>\n",
       "      <th>3</th>\n",
       "      <td>2022-10-06</td>\n",
       "      <td>1459.949951</td>\n",
       "      <td>1437.000000</td>\n",
       "    </tr>\n",
       "    <tr>\n",
       "      <th>4</th>\n",
       "      <td>2022-10-07</td>\n",
       "      <td>1430.250000</td>\n",
       "      <td>1430.800049</td>\n",
       "    </tr>\n",
       "    <tr>\n",
       "      <th>...</th>\n",
       "      <td>...</td>\n",
       "      <td>...</td>\n",
       "      <td>...</td>\n",
       "    </tr>\n",
       "    <tr>\n",
       "      <th>243</th>\n",
       "      <td>2023-09-25</td>\n",
       "      <td>1525.000000</td>\n",
       "      <td>1531.000000</td>\n",
       "    </tr>\n",
       "    <tr>\n",
       "      <th>244</th>\n",
       "      <td>2023-09-26</td>\n",
       "      <td>1525.000000</td>\n",
       "      <td>1537.650024</td>\n",
       "    </tr>\n",
       "    <tr>\n",
       "      <th>245</th>\n",
       "      <td>2023-09-27</td>\n",
       "      <td>1523.000000</td>\n",
       "      <td>1526.849976</td>\n",
       "    </tr>\n",
       "    <tr>\n",
       "      <th>246</th>\n",
       "      <td>2023-09-28</td>\n",
       "      <td>1534.000000</td>\n",
       "      <td>1523.699951</td>\n",
       "    </tr>\n",
       "    <tr>\n",
       "      <th>247</th>\n",
       "      <td>2023-09-29</td>\n",
       "      <td>1523.699951</td>\n",
       "      <td>1526.300049</td>\n",
       "    </tr>\n",
       "  </tbody>\n",
       "</table>\n",
       "<p>248 rows × 3 columns</p>\n",
       "</div>"
      ],
      "text/plain": [
       "          Date         Open        Close\n",
       "0   2022-09-30  1378.800049  1421.349976\n",
       "1   2022-10-03  1409.949951  1413.199951\n",
       "2   2022-10-04  1429.500000  1453.000000\n",
       "3   2022-10-06  1459.949951  1437.000000\n",
       "4   2022-10-07  1430.250000  1430.800049\n",
       "..         ...          ...          ...\n",
       "243 2023-09-25  1525.000000  1531.000000\n",
       "244 2023-09-26  1525.000000  1537.650024\n",
       "245 2023-09-27  1523.000000  1526.849976\n",
       "246 2023-09-28  1534.000000  1523.699951\n",
       "247 2023-09-29  1523.699951  1526.300049\n",
       "\n",
       "[248 rows x 3 columns]"
      ]
     },
     "execution_count": 6,
     "metadata": {},
     "output_type": "execute_result"
    }
   ],
   "source": [
    "data[['Date', 'Open', 'Close']]"
   ]
  },
  {
   "cell_type": "markdown",
   "id": "89cb560e",
   "metadata": {},
   "source": [
    "# Problem Statement: \n",
    "\n",
    "**Predict today's Closing Price based on yesterday's Closing Price**"
   ]
  },
  {
   "cell_type": "code",
   "execution_count": 7,
   "id": "735cf395",
   "metadata": {},
   "outputs": [
    {
     "data": {
      "text/html": [
       "<div>\n",
       "<style scoped>\n",
       "    .dataframe tbody tr th:only-of-type {\n",
       "        vertical-align: middle;\n",
       "    }\n",
       "\n",
       "    .dataframe tbody tr th {\n",
       "        vertical-align: top;\n",
       "    }\n",
       "\n",
       "    .dataframe thead th {\n",
       "        text-align: right;\n",
       "    }\n",
       "</style>\n",
       "<table border=\"1\" class=\"dataframe\">\n",
       "  <thead>\n",
       "    <tr style=\"text-align: right;\">\n",
       "      <th></th>\n",
       "      <th>Date</th>\n",
       "      <th>Open</th>\n",
       "      <th>High</th>\n",
       "      <th>Low</th>\n",
       "      <th>Close</th>\n",
       "      <th>Adj Close</th>\n",
       "      <th>Volume</th>\n",
       "      <th>Yesterday_Close</th>\n",
       "    </tr>\n",
       "  </thead>\n",
       "  <tbody>\n",
       "    <tr>\n",
       "      <th>1</th>\n",
       "      <td>2022-10-03</td>\n",
       "      <td>1409.949951</td>\n",
       "      <td>1417.849976</td>\n",
       "      <td>1401.099976</td>\n",
       "      <td>1413.199951</td>\n",
       "      <td>1397.177246</td>\n",
       "      <td>5770556</td>\n",
       "      <td>1421.349976</td>\n",
       "    </tr>\n",
       "    <tr>\n",
       "      <th>2</th>\n",
       "      <td>2022-10-04</td>\n",
       "      <td>1429.500000</td>\n",
       "      <td>1458.000000</td>\n",
       "      <td>1426.150024</td>\n",
       "      <td>1453.000000</td>\n",
       "      <td>1436.526123</td>\n",
       "      <td>5769263</td>\n",
       "      <td>1413.199951</td>\n",
       "    </tr>\n",
       "    <tr>\n",
       "      <th>3</th>\n",
       "      <td>2022-10-06</td>\n",
       "      <td>1459.949951</td>\n",
       "      <td>1462.599976</td>\n",
       "      <td>1434.199951</td>\n",
       "      <td>1437.000000</td>\n",
       "      <td>1420.707520</td>\n",
       "      <td>6274599</td>\n",
       "      <td>1453.000000</td>\n",
       "    </tr>\n",
       "    <tr>\n",
       "      <th>4</th>\n",
       "      <td>2022-10-07</td>\n",
       "      <td>1430.250000</td>\n",
       "      <td>1434.949951</td>\n",
       "      <td>1420.349976</td>\n",
       "      <td>1430.800049</td>\n",
       "      <td>1414.577759</td>\n",
       "      <td>6648997</td>\n",
       "      <td>1437.000000</td>\n",
       "    </tr>\n",
       "    <tr>\n",
       "      <th>5</th>\n",
       "      <td>2022-10-10</td>\n",
       "      <td>1408.000000</td>\n",
       "      <td>1426.000000</td>\n",
       "      <td>1398.199951</td>\n",
       "      <td>1415.000000</td>\n",
       "      <td>1398.956909</td>\n",
       "      <td>6554651</td>\n",
       "      <td>1430.800049</td>\n",
       "    </tr>\n",
       "  </tbody>\n",
       "</table>\n",
       "</div>"
      ],
      "text/plain": [
       "        Date         Open         High          Low        Close    Adj Close  \\\n",
       "1 2022-10-03  1409.949951  1417.849976  1401.099976  1413.199951  1397.177246   \n",
       "2 2022-10-04  1429.500000  1458.000000  1426.150024  1453.000000  1436.526123   \n",
       "3 2022-10-06  1459.949951  1462.599976  1434.199951  1437.000000  1420.707520   \n",
       "4 2022-10-07  1430.250000  1434.949951  1420.349976  1430.800049  1414.577759   \n",
       "5 2022-10-10  1408.000000  1426.000000  1398.199951  1415.000000  1398.956909   \n",
       "\n",
       "    Volume  Yesterday_Close  \n",
       "1  5770556      1421.349976  \n",
       "2  5769263      1413.199951  \n",
       "3  6274599      1453.000000  \n",
       "4  6648997      1437.000000  \n",
       "5  6554651      1430.800049  "
      ]
     },
     "execution_count": 7,
     "metadata": {},
     "output_type": "execute_result"
    }
   ],
   "source": [
    "# Calculate the feature 'Yesterday_Close' by shifting 'Close' by one day\n",
    "data['Yesterday_Close'] = data['Close'].shift(1)\n",
    "\n",
    "# Drop the first row since it will have NaN values in 'Yesterday_Close'\n",
    "data = data.dropna()\n",
    "\n",
    "data.head()"
   ]
  },
  {
   "cell_type": "markdown",
   "id": "1978c099-bf5d-4d8b-b759-4771cec2e3da",
   "metadata": {},
   "source": [
    "# 3. Splitting data into Training and Testing sets "
   ]
  },
  {
   "cell_type": "code",
   "execution_count": 8,
   "id": "8cacd726",
   "metadata": {},
   "outputs": [],
   "source": [
    "# Split the data into features (X) and target (y)\n",
    "X = data[['Yesterday_Close', 'Open', 'High', 'Low', 'Adj Close']]\n",
    "y = data['Close']\n",
    "\n",
    "# Split the data into training and testing sets\n",
    "X_train, X_test, y_train, y_test = train_test_split(X, y, test_size=0.2, random_state=42)"
   ]
  },
  {
   "cell_type": "markdown",
   "id": "4f178bc5-1a0e-4119-8de0-dc4c05dc80dc",
   "metadata": {},
   "source": [
    "# 4. Model Training"
   ]
  },
  {
   "cell_type": "code",
   "execution_count": 9,
   "id": "3a4758b4",
   "metadata": {},
   "outputs": [],
   "source": [
    "# Create a Linear Regression model\n",
    "model = LinearRegression()\n",
    "\n",
    "# Train the model on the training data\n",
    "model.fit(X_train, y_train)\n",
    "\n",
    "y_pred = model.predict(X_test)"
   ]
  },
  {
   "cell_type": "markdown",
   "id": "610f7b13-fc05-48bd-9ca3-0530df3c2b8c",
   "metadata": {},
   "source": [
    "# 5. Data Evaluation"
   ]
  },
  {
   "cell_type": "code",
   "execution_count": 10,
   "id": "63318937",
   "metadata": {},
   "outputs": [
    {
     "name": "stdout",
     "output_type": "stream",
     "text": [
      "Mean Squared Error:  22.410547891531348\n",
      "R-Squared:  0.9952223658844194\n"
     ]
    }
   ],
   "source": [
    "# Evaluate the model on the testing data\n",
    "mse = mean_squared_error(y_test, y_pred)\n",
    "r2 = r2_score(y_test, y_pred)\n",
    "\n",
    "print(\"Mean Squared Error: \", mse)\n",
    "print(\"R-Squared: \", r2)"
   ]
  },
  {
   "cell_type": "markdown",
   "id": "410d61f2-0434-4d61-a56b-0e6d21445316",
   "metadata": {},
   "source": [
    "# 6. Model Deployment"
   ]
  },
  {
   "cell_type": "code",
   "execution_count": 11,
   "id": "d7568d6d",
   "metadata": {},
   "outputs": [
    {
     "name": "stdout",
     "output_type": "stream",
     "text": [
      "Model saved as 'lag.pkl'\n"
     ]
    }
   ],
   "source": [
    "with open('lag.pkl', 'wb') as model_file:\n",
    "    pickle.dump(model, model_file)\n",
    "    # Save the trained model to a file using pickle\n",
    "\n",
    "print(\"Model saved as 'lag.pkl'\")"
   ]
  }
 ],
 "metadata": {
  "kernelspec": {
   "display_name": "Python 3 (ipykernel)",
   "language": "python",
   "name": "python3"
  },
  "language_info": {
   "codemirror_mode": {
    "name": "ipython",
    "version": 3
   },
   "file_extension": ".py",
   "mimetype": "text/x-python",
   "name": "python",
   "nbconvert_exporter": "python",
   "pygments_lexer": "ipython3",
   "version": "3.8.10"
  }
 },
 "nbformat": 4,
 "nbformat_minor": 5
}
